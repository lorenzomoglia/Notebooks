{
 "cells": [
  {
   "cell_type": "markdown",
   "metadata": {},
   "source": [
    "# Object Relational Mapping (ORM)\n",
    "### Esempi di utilizzo con Flask-SQLAlchemy \n",
    "\n",
    "Oggi parliamo di ORM, ovvero della tecnologia che ci consente di collegare un database ad una applicazione, mantenendosi però distaccata dal mondo SQL o da un particolare DB o dialetto. \n",
    "In questo modo possiamo scrivere del codice che sia **db-agnostic**.\n",
    "Questo significa che grazie all'utilizzo di uno strumento di Object Relational Mapping (di seguito orm), possiamo delegare ad uno strumento (in questo caso una libreria) il compito di interagire con il database, mentre all'interno dell'applicazione noi lavoreremo soltanto con degli *oggetti* \n",
    "\n",
    "Partiamo con la definizione \"ufficiale\" di orm:\n",
    "\n",
    ">Un ORM (Object-Relational Mapping) è uno strumento software che facilita la conversione dei dati tra un sistema di database relazionale e un linguaggio di programmazione orientato agli oggetti. Un ORM consente agli sviluppatori di interagire con un database utilizzando le stesse convenzioni e tecniche che usano per manipolare gli oggetti nel loro codice. Questo riduce la necessità di scrivere query SQL manualmente. \n",
    "L'ORM funziona mappando le tabelle del database a classi nel codice e le righe della tabella a istanze di queste classi.\n",
    "\n",
    "Ho sempre pensato che al mondo c'è chi ama le definizioni e chi ama fare. Per vostra fortuna appartengo al secondo gruppo, quindi ci affacceremo a questi argomenti con esempi pratici.\n",
    "\n",
    "In questo notebook utilizzeremo l'ORM SQLAlchemy, in particolare nella sua versione che si integra con Flask. Questo consente una certa semplicità, e di concentrarci solo su quelllo che ci serve senza perderci in complicazioni applicative. Iniziamo installando le dipendenze necessarie"
   ]
  },
  {
   "cell_type": "code",
   "execution_count": 2,
   "metadata": {},
   "outputs": [
    {
     "name": "stdout",
     "output_type": "stream",
     "text": [
      "Requirement already satisfied: Flask in c:\\users\\moglial\\desktop\\burundi\\.venv\\lib\\site-packages (3.0.3)\n",
      "Requirement already satisfied: Flask-SQLAlchemy in c:\\users\\moglial\\desktop\\burundi\\.venv\\lib\\site-packages (3.1.1)\n",
      "Requirement already satisfied: Flask-Migrate in c:\\users\\moglial\\desktop\\burundi\\.venv\\lib\\site-packages (4.0.7)\n",
      "Requirement already satisfied: Werkzeug>=3.0.0 in c:\\users\\moglial\\desktop\\burundi\\.venv\\lib\\site-packages (from Flask) (3.0.3)\n",
      "Requirement already satisfied: Jinja2>=3.1.2 in c:\\users\\moglial\\desktop\\burundi\\.venv\\lib\\site-packages (from Flask) (3.1.4)\n",
      "Requirement already satisfied: itsdangerous>=2.1.2 in c:\\users\\moglial\\desktop\\burundi\\.venv\\lib\\site-packages (from Flask) (2.2.0)\n",
      "Requirement already satisfied: click>=8.1.3 in c:\\users\\moglial\\desktop\\burundi\\.venv\\lib\\site-packages (from Flask) (8.1.7)\n",
      "Requirement already satisfied: blinker>=1.6.2 in c:\\users\\moglial\\desktop\\burundi\\.venv\\lib\\site-packages (from Flask) (1.8.2)\n",
      "Requirement already satisfied: sqlalchemy>=2.0.16 in c:\\users\\moglial\\desktop\\burundi\\.venv\\lib\\site-packages (from Flask-SQLAlchemy) (2.0.32)\n",
      "Requirement already satisfied: alembic>=1.9.0 in c:\\users\\moglial\\desktop\\burundi\\.venv\\lib\\site-packages (from Flask-Migrate) (1.13.2)\n",
      "Requirement already satisfied: Mako in c:\\users\\moglial\\desktop\\burundi\\.venv\\lib\\site-packages (from alembic>=1.9.0->Flask-Migrate) (1.3.5)\n",
      "Requirement already satisfied: typing-extensions>=4 in c:\\users\\moglial\\desktop\\burundi\\.venv\\lib\\site-packages (from alembic>=1.9.0->Flask-Migrate) (4.12.2)\n",
      "Requirement already satisfied: colorama in c:\\users\\moglial\\desktop\\burundi\\.venv\\lib\\site-packages (from click>=8.1.3->Flask) (0.4.6)\n",
      "Requirement already satisfied: MarkupSafe>=2.0 in c:\\users\\moglial\\desktop\\burundi\\.venv\\lib\\site-packages (from Jinja2>=3.1.2->Flask) (2.1.5)\n",
      "Requirement already satisfied: greenlet!=0.4.17 in c:\\users\\moglial\\desktop\\burundi\\.venv\\lib\\site-packages (from sqlalchemy>=2.0.16->Flask-SQLAlchemy) (3.0.3)\n",
      "Note: you may need to restart the kernel to use updated packages.\n"
     ]
    },
    {
     "name": "stderr",
     "output_type": "stream",
     "text": [
      "\n",
      "[notice] A new release of pip available: 22.3 -> 24.2\n",
      "[notice] To update, run: python.exe -m pip install --upgrade pip\n"
     ]
    }
   ],
   "source": [
    "%pip install Flask Flask-SQLAlchemy Flask-Migrate\n",
    "\n",
    "# se usi Jupyter usa questo:\n",
    "#!pip install Flask Flask-SQLAlchemy Flask-Migrate"
   ]
  },
  {
   "cell_type": "markdown",
   "metadata": {},
   "source": [
    "## Creiamo un model\n",
    "\n",
    "Un \"model\" in un ORM rappresenta una tabella nel database. Ogni classe definita come model rappresenta una tabella e i suoi attributi rappresentano le colonne della tabella.\n",
    "Questo è il modo in cui un model viene creato. "
   ]
  },
  {
   "cell_type": "code",
   "execution_count": 1,
   "metadata": {},
   "outputs": [],
   "source": [
    "from flask import Flask\n",
    "from flask_sqlalchemy import SQLAlchemy\n",
    "app = Flask(__name__)\n",
    "app.config['SQLALCHEMY_DATABASE_URI'] = 'sqlite:///test.db'\n",
    "app.config['SQLALCHEMY_TRACK_MODIFICATIONS'] = False\n",
    "db = SQLAlchemy(app)"
   ]
  },
  {
   "cell_type": "code",
   "execution_count": 2,
   "metadata": {},
   "outputs": [],
   "source": [
    "class Utente(db.Model):\n",
    "    id = db.Column(db.Integer, primary_key=True, autoincrement=True)\n",
    "    username = db.Column(db.String(80), unique=True, nullable=False)\n",
    "    email = db.Column(db.String(120), unique=True, nullable=False)\n",
    "    details = db.Column(db.Text, nullable=True)\n",
    "    \n",
    "    def __repr__(self):\n",
    "        return f\"ID: {self.id} | Username: {self.username}\"\n",
    "\n",
    "\n",
    "with app.app_context():\n",
    "    db.create_all()"
   ]
  },
  {
   "cell_type": "markdown",
   "metadata": {},
   "source": [
    "Vediamo cosa è successo nella cella qua sopra: la prima cella di codice serve ad avviare il servizio e per ora può essere ignorata. Andiamo a vedere cosa succede dopo:  \n",
    "  \n",
    "`class Utente(db.Model)`: Con questa riga sto creando una classe, ereditando le caratteristiche della superclasse db.Model. In poche parole sto dicendo a Python che questa classe sarà un model, e che eredita tutti i metodi e attributi della classe Model di SQLAlchemy  \n",
    "  \n",
    "`id = db.Column(db.Integer, primary_key=True)`: qua sto definendo il primo attributo del mio model. L'id sarà infatti una colonna del DB (db.Column), se non passato esplicitamente sarà **autoincrementale** (autoincrement=True), sarà un **intero** (db.Integer), e sarà la **primary key** della tabella (primary_key=True)  \n",
    "  \n",
    "`username = db.Column(db.String(80), unique=True, nullable=False)`: qua definiamo un altro attributo. Questo attributo sarà una stringa di lunghezza massima 80 (db.String(80)) [la lunghezza si può omettere, ma fissare una lunghezza massima è preferibile per ottimizzare il db]. Questo attributo deve essere **unico** (unique=True), e non può mai essere vuoto (nullable=False). Per l'attributo email valgono le stesse considerazioni.  \n",
    "  \n",
    "`details = db.Column(db.Text, nullable=True)`: definiamo qua un ultimo attributo. Questo può essere un testo anche lungo (db.Text), e può essere vuoto (nullable=True)\n",
    "\n",
    "Il metodo `__repr__` serve per dire quale deve essere la rappresentazione dell'oggetto quando viene elencato o stampato con print. Nella prossima cella lo vedremo in azione.\n",
    "\n",
    "Queste due righe:\n",
    "`with app.app_context():`  \n",
    "    `db.create_all()`    \n",
    "\n",
    "Servono a propagare sul DB il nostro model. Questa parte verrà trattata in dettaglio più avanti nel notebook, per ora possiamo ignorarla.  \n",
    " Devo usare `with app.app_context():` per dire al motore di proseguire anche se siamo su un notebook e non su una vera applicazione. Questo espediente verrà molto usato nelle prossime celle, ma è indispensabile per il funzionamento del notebook."
   ]
  },
  {
   "cell_type": "markdown",
   "metadata": {},
   "source": [
    "## Come uso un model?  \n",
    "\n",
    "Facciamo subito un esempio. Per creare un nuovo oggetto, sarà sufficiente istanziare un nuovo oggetto della classe Utente."
   ]
  },
  {
   "cell_type": "code",
   "execution_count": 3,
   "metadata": {},
   "outputs": [],
   "source": [
    "with app.app_context():\n",
    "    \n",
    "    nuovo_utente = Utente(username=\"MogliaL\", email=\"lorenzo.moglia@tasgroup.eu\") # non metto nessun detail, mentre l'id è generato automaticamentr\n",
    "    db.session.add(nuovo_utente)\n",
    "    db.session.commit()"
   ]
  },
  {
   "cell_type": "markdown",
   "metadata": {},
   "source": [
    "Bene, abbiamo creato il nostro primo utente!  \n",
    "Ora, come faccio a controllare quanti utenti ho attualmente nel mio db? Posso controllarlo facendo una query sul mio model, che mi restituisca tutti gli utenti, con la rappresentazione che ho definito all'interno del metodo `__repr__`.  \n",
    "  \n",
    "Per vedere tutti gli oggetti di un certo model, utilizzo il metodo `<model>.query.all()`."
   ]
  },
  {
   "cell_type": "code",
   "execution_count": 4,
   "metadata": {},
   "outputs": [
    {
     "name": "stdout",
     "output_type": "stream",
     "text": [
      "[ID: 1 | Username: MogliaL]\n"
     ]
    }
   ],
   "source": [
    "with app.app_context():\n",
    "    users = Utente.query.all()\n",
    "    print(users) "
   ]
  },
  {
   "cell_type": "markdown",
   "metadata": {},
   "source": [
    "Eccolo qua! Però un'applicazione con un solo user è abbastanza triste. Ogni applicazione ha bisogno di un utente admin, di un moderatore, e di alcuni utenti base o premium. Creiamoli, insieme  !"
   ]
  },
  {
   "cell_type": "code",
   "execution_count": 5,
   "metadata": {},
   "outputs": [],
   "source": [
    "with app.app_context():\n",
    "    utente_admin = Utente(username=\"admin\", email=\"admin@applicazione.tech\", details=\"admin user - superuser\")\n",
    "    db.session.add(utente_admin)\n",
    "    utente_mod = Utente(username=\"mod\", email=\"mod@applicazione.tech\", details=\"admin user - moderator\")\n",
    "    db.session.add(utente_mod)\n",
    "    utente_user1 = Utente(username=\"Mario_Rossi\", email=\"user1@applicazione.tech\", details=\"premium user\")\n",
    "    db.session.add(utente_user1)\n",
    "    utente_user2 = Utente(username=\"Pietro_Verdi\", email=\"user2@applicazione.tech\", details=\"premium user\")\n",
    "    db.session.add(utente_user2)\n",
    "    utente_user3 = Utente(username=\"Bonaventura_Larda\", email=\"user3@applicazione.tech\") \n",
    "    db.session.add(utente_user3)\n",
    "    # se voglio aggiungere altri utenti, posso farlo qua, all'interno della stessa sessione di connessione al db. Il commit va eseguito una sola volta per sessione, e scrive sul db tutte le operazioni avvenute nella stessa sessione\n",
    "    db.session.commit()"
   ]
  },
  {
   "cell_type": "markdown",
   "metadata": {},
   "source": [
    "Vediamo ora tutti gli utenti dell'applicazione:"
   ]
  },
  {
   "cell_type": "code",
   "execution_count": 12,
   "metadata": {},
   "outputs": [
    {
     "name": "stdout",
     "output_type": "stream",
     "text": [
      "[ID: 1 | Username: MogliaL, ID: 2 | Username: admin, ID: 3 | Username: mod, ID: 4 | Username: Mario_Rossi, ID: 5 | Username: Pietro_Verdi, ID: 6 | Username: Bonaventura_Larda]\n"
     ]
    }
   ],
   "source": [
    "with app.app_context():\n",
    "    users = Utente.query.all()\n",
    "    print(users) "
   ]
  },
  {
   "cell_type": "markdown",
   "metadata": {},
   "source": [
    "Diciamo che ora voglio caricare l'utente che risponde al nome di Mario Rossi."
   ]
  },
  {
   "cell_type": "code",
   "execution_count": 13,
   "metadata": {},
   "outputs": [
    {
     "name": "stdout",
     "output_type": "stream",
     "text": [
      "ID: 4 | Username: Mario_Rossi\n"
     ]
    }
   ],
   "source": [
    "with app.app_context():\n",
    "    user = Utente.query.filter_by(username='Mario_Rossi').first()\n",
    "    print(user)\n"
   ]
  },
  {
   "cell_type": "markdown",
   "metadata": {},
   "source": [
    "OK! Ora carichiamo tutti i premium users"
   ]
  },
  {
   "cell_type": "code",
   "execution_count": 14,
   "metadata": {},
   "outputs": [
    {
     "name": "stdout",
     "output_type": "stream",
     "text": [
      "[ID: 4 | Username: Mario_Rossi, ID: 5 | Username: Pietro_Verdi]\n"
     ]
    }
   ],
   "source": [
    "with app.app_context():\n",
    "    premium_users = Utente.query.filter_by(details='premium user').all()\n",
    "    print(premium_users)"
   ]
  },
  {
   "cell_type": "markdown",
   "metadata": {},
   "source": [
    "Abbiamo visto che sia mod che admin hanno nei details \"admin user - {ruolo}\". Andiamo a fare una query che carica tutti gli utenti i cui details **contengano** la dicitura \"admin user\""
   ]
  },
  {
   "cell_type": "code",
   "execution_count": 15,
   "metadata": {},
   "outputs": [
    {
     "name": "stdout",
     "output_type": "stream",
     "text": [
      "[ID: 2 | Username: admin, ID: 3 | Username: mod]\n"
     ]
    }
   ],
   "source": [
    "with app.app_context():\n",
    "    admin_users = Utente.query.filter(Utente.details.like('%admin user%')).all()\n",
    "    print(admin_users)"
   ]
  },
  {
   "cell_type": "markdown",
   "metadata": {},
   "source": [
    "# work in progress..."
   ]
  },
  {
   "cell_type": "code",
   "execution_count": null,
   "metadata": {},
   "outputs": [],
   "source": []
  }
 ],
 "metadata": {
  "kernelspec": {
   "display_name": ".venv",
   "language": "python",
   "name": "python3"
  },
  "language_info": {
   "codemirror_mode": {
    "name": "ipython",
    "version": 3
   },
   "file_extension": ".py",
   "mimetype": "text/x-python",
   "name": "python",
   "nbconvert_exporter": "python",
   "pygments_lexer": "ipython3",
   "version": "3.11.0"
  }
 },
 "nbformat": 4,
 "nbformat_minor": 2
}
